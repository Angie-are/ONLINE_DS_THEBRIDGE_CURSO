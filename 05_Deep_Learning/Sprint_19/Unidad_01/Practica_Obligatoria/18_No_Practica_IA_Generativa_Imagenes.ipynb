{
  "cells": [
    {
      "cell_type": "markdown",
      "metadata": {
        "id": "NrldIDfWQD1D"
      },
      "source": [
        "<img src=\"https://github.com/rodolso/DS_Online_Octubre24/blob/main/05_Deep_Learning/Sprint_19/Unidad_01_IA_Generativa_Imagenes/img/cabecera.png?raw=1\">"
      ]
    },
    {
      "cell_type": "markdown",
      "metadata": {},
      "source": [
        "## NO PRACTICA OBLIGATORIA: **IA Generativa en Imágenes**"
      ]
    },
    {
      "cell_type": "markdown",
      "metadata": {},
      "source": [
        "* La práctica obligatoria de esta unidad consiste en... **¡que no hay práctica obligatoria!**\n",
        "\n",
        "* El objetivo de esta unidad es que te familiarices con la *IA Generativa en Imágenes*.\n",
        "\n",
        "* **Importante**: dado que en esta unidad no hay workout o trabajo previo, **te recomendamos que revises los notebooks disponibles en el Repositorio de Teoría para que te familiarices con el material antes de la sesión en vivo y así puedas participar y resolver tus dudas**.  \n",
        "\n",
        "* Y recuerda que debes descargar este notebook en tu ordenador para poder subirlo, tal y como está ahora, a tu repositorio personal antes de la sesión en vivo para que puntúe adecuadamente y poder asistir a la sesión.  "
      ]
    },
    {
      "cell_type": "code",
      "execution_count": 1,
      "metadata": {},
      "outputs": [
        {
          "name": "stdout",
          "output_type": "stream",
          "text": [
            "Requirement already satisfied: Flask in c:\\users\\angel\\appdata\\local\\programs\\python\\python313\\lib\\site-packages (3.0.3)\n",
            "Collecting Flask\n",
            "  Downloading flask-3.1.0-py3-none-any.whl.metadata (2.7 kB)\n",
            "Collecting Werkzeug>=3.1 (from Flask)\n",
            "  Downloading werkzeug-3.1.3-py3-none-any.whl.metadata (3.7 kB)\n",
            "Requirement already satisfied: Jinja2>=3.1.2 in c:\\users\\angel\\appdata\\local\\programs\\python\\python313\\lib\\site-packages (from Flask) (3.1.4)\n",
            "Requirement already satisfied: itsdangerous>=2.2 in c:\\users\\angel\\appdata\\local\\programs\\python\\python313\\lib\\site-packages (from Flask) (2.2.0)\n",
            "Requirement already satisfied: click>=8.1.3 in c:\\users\\angel\\appdata\\local\\programs\\python\\python313\\lib\\site-packages (from Flask) (8.1.7)\n",
            "Requirement already satisfied: blinker>=1.9 in c:\\users\\angel\\appdata\\local\\programs\\python\\python313\\lib\\site-packages (from Flask) (1.9.0)\n",
            "Requirement already satisfied: colorama in c:\\users\\angel\\appdata\\local\\programs\\python\\python313\\lib\\site-packages (from click>=8.1.3->Flask) (0.4.6)\n",
            "Requirement already satisfied: MarkupSafe>=2.0 in c:\\users\\angel\\appdata\\local\\programs\\python\\python313\\lib\\site-packages (from Jinja2>=3.1.2->Flask) (3.0.2)\n",
            "Downloading flask-3.1.0-py3-none-any.whl (102 kB)\n",
            "Downloading werkzeug-3.1.3-py3-none-any.whl (224 kB)\n",
            "Installing collected packages: Werkzeug, Flask\n",
            "  Attempting uninstall: Werkzeug\n",
            "    Found existing installation: Werkzeug 3.0.6\n",
            "    Uninstalling Werkzeug-3.0.6:\n",
            "      Successfully uninstalled Werkzeug-3.0.6\n",
            "  Attempting uninstall: Flask\n",
            "    Found existing installation: Flask 3.0.3\n",
            "    Uninstalling Flask-3.0.3:\n",
            "      Successfully uninstalled Flask-3.0.3\n",
            "Successfully installed Flask-3.1.0 Werkzeug-3.1.3\n",
            "Note: you may need to restart the kernel to use updated packages.\n"
          ]
        },
        {
          "name": "stderr",
          "output_type": "stream",
          "text": [
            "ERROR: pip's dependency resolver does not currently take into account all the packages that are installed. This behaviour is the source of the following dependency conflicts.\n",
            "dash 2.18.2 requires Flask<3.1,>=1.0.4, but you have flask 3.1.0 which is incompatible.\n",
            "dash 2.18.2 requires Werkzeug<3.1, but you have werkzeug 3.1.3 which is incompatible.\n"
          ]
        }
      ],
      "source": [
        "pip install -U Flask\n"
      ]
    }
  ],
  "metadata": {
    "accelerator": "GPU",
    "colab": {
      "name": "Breve_Intro_a_Generativa_en_Imagenes.ipynb",
      "provenance": []
    },
    "kernelspec": {
      "display_name": "Python 3",
      "language": "python",
      "name": "python3"
    },
    "language_info": {
      "codemirror_mode": {
        "name": "ipython",
        "version": 3
      },
      "file_extension": ".py",
      "mimetype": "text/x-python",
      "name": "python",
      "nbconvert_exporter": "python",
      "pygments_lexer": "ipython3",
      "version": "3.13.0"
    },
    "nav_menu": {
      "height": "381px",
      "width": "453px"
    },
    "toc": {
      "navigate_menu": true,
      "number_sections": true,
      "sideBar": true,
      "threshold": 6,
      "toc_cell": false,
      "toc_section_display": "block",
      "toc_window_display": false
    }
  },
  "nbformat": 4,
  "nbformat_minor": 0
}
