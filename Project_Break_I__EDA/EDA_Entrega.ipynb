{
 "cells": [
  {
   "cell_type": "code",
   "execution_count": 2,
   "metadata": {},
   "outputs": [],
   "source": [
    "#Importamos las librerías:\n",
    "\n",
    "import pandas as pd\n",
    "import numpy as np\n",
    "import matplotlib.pyplot as plt\n",
    "import seaborn as sns\n",
    "import plotly.express as px\n",
    "import random"
   ]
  },
  {
   "cell_type": "code",
   "execution_count": 3,
   "metadata": {},
   "outputs": [
    {
     "name": "stdout",
     "output_type": "stream",
     "text": [
      "   Div        Date   Time  HomeTeam   AwayTeam  FTHG  FTAG FTR  HTHG  HTAG  \\\n",
      "0  SP2  15/08/2024  19:30   Granada   Albacete     1     2   A     1     2   \n",
      "1  SP2  16/08/2024  18:00  Mirandes    Cordoba     1     0   H     1     0   \n",
      "2  SP2  16/08/2024  20:30     Cadiz   Zaragoza     0     4   A     0     2   \n",
      "3  SP2  17/08/2024  16:00     Eibar  Castellon     1     0   H     1     0   \n",
      "4  SP2  17/08/2024  16:00    Ferrol     Malaga     2     2   D     0     1   \n",
      "\n",
      "   ... B365CAHH  B365CAHA  PCAHH  PCAHA  MaxCAHH  MaxCAHA  AvgCAHH  AvgCAHA  \\\n",
      "0  ...     2.05      1.80   2.09   1.83     2.11     1.94     1.98     1.83   \n",
      "1  ...     1.80      2.05   1.83   2.08     1.86     2.12     1.81     2.02   \n",
      "2  ...     2.05      1.80   2.10   1.83     2.10     1.86     2.03     1.79   \n",
      "3  ...     2.00      1.85   1.99   1.91     2.07     1.91     1.98     1.83   \n",
      "4  ...     2.10      1.70   2.20   1.74     2.25     1.84     2.09     1.75   \n",
      "\n",
      "   BFECAHH  BFECAHA  \n",
      "0     2.14     1.86  \n",
      "1     1.87     2.11  \n",
      "2     2.13     1.87  \n",
      "3     2.09     1.90  \n",
      "4     2.26     1.77  \n",
      "\n",
      "[5 rows x 119 columns]\n"
     ]
    }
   ],
   "source": [
    "#Cargar los archivos CSV:\n",
    "\n",
    "df = pd.read_csv('SP1.csv')\n",
    "df = pd.read_csv('SP2.csv')\n",
    "\n",
    "# Ver las primeras filas del dataset:\n",
    "\n",
    "print(df.head())"
   ]
  },
  {
   "cell_type": "code",
   "execution_count": null,
   "metadata": {},
   "outputs": [],
   "source": []
  }
 ],
 "metadata": {
  "kernelspec": {
   "display_name": "Python 3",
   "language": "python",
   "name": "python3"
  },
  "language_info": {
   "codemirror_mode": {
    "name": "ipython",
    "version": 3
   },
   "file_extension": ".py",
   "mimetype": "text/x-python",
   "name": "python",
   "nbconvert_exporter": "python",
   "pygments_lexer": "ipython3",
   "version": "3.13.0"
  }
 },
 "nbformat": 4,
 "nbformat_minor": 2
}
